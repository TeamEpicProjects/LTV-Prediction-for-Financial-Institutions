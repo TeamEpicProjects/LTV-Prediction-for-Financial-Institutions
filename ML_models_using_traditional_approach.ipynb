{
  "nbformat": 4,
  "nbformat_minor": 0,
  "metadata": {
    "colab": {
      "provenance": []
    },
    "kernelspec": {
      "name": "python3",
      "display_name": "Python 3"
    },
    "language_info": {
      "name": "python"
    },
    "gpuClass": "standard"
  },
  "cells": [
    {
      "cell_type": "code",
      "execution_count": 1,
      "metadata": {
        "id": "mkfJ7dKPLYoT"
      },
      "outputs": [],
      "source": [
        "import pandas as pd\n",
        "import numpy as np"
      ]
    },
    {
      "cell_type": "code",
      "source": [
        "from google.colab import drive\n",
        "\n",
        "drive.mount('/content/drive', force_remount=True)\n",
        "\n",
        "\n",
        "df = pd.read_csv('/content/drive/MyDrive/Colab_Notebooks/Customer_LTV_Prediction/archive/Data/final_sairam.csv')"
      ],
      "metadata": {
        "colab": {
          "base_uri": "https://localhost:8080/"
        },
        "id": "upsemmGuL9FF",
        "outputId": "02112557-5091-4ade-f8f2-777cd14bd465"
      },
      "execution_count": 2,
      "outputs": [
        {
          "output_type": "stream",
          "name": "stdout",
          "text": [
            "Mounted at /content/drive\n"
          ]
        }
      ]
    },
    {
      "cell_type": "code",
      "source": [
        "df.head()"
      ],
      "metadata": {
        "colab": {
          "base_uri": "https://localhost:8080/",
          "height": 334
        },
        "id": "W7wJGS5g0kIm",
        "outputId": "50f734fd-ec54-4914-c588-77f41545708d"
      },
      "execution_count": 3,
      "outputs": [
        {
          "output_type": "execute_result",
          "data": {
            "text/plain": [
              "   ID Frequency InstlmentMode LoanStatus   PaymentMode  BranchID  Tenure  \\\n",
              "0   1   Monthly        Arrear     Closed         PDC_E         1      48   \n",
              "1   2   Monthly       Advance     Closed           PDC       333      47   \n",
              "2   3   Quatrly        Arrear     Active  Direct Debit         1      68   \n",
              "3   7   Monthly       Advance     Closed        Billed       125      48   \n",
              "4   8   Monthly        Arrear     Closed        Billed       152      44   \n",
              "\n",
              "   AssetCost  AmountFinance      EMI  ...  #Ownerships-Accepted  \\\n",
              "0     450000       275000.0  24000.0  ...                     1   \n",
              "1     485000       350000.0  10500.0  ...                     2   \n",
              "2     690000       519728.0  38300.0  ...                     3   \n",
              "3     480000       400000.0  11600.0  ...                     1   \n",
              "4     619265       440000.0  15000.0  ...                     3   \n",
              "\n",
              "   Closed-Accounts Active-Accounts  Disbursed-Amt   Current-Bal Overdue-Amt  \\\n",
              "0                5               4   2.751690e+05  1.546315e+05     37873.0   \n",
              "1                6               7   1.393622e+06  1.478494e+06         0.0   \n",
              "2               19              12   1.196248e+05  1.877423e+05     51745.0   \n",
              "3                2               2   3.181382e+05  6.240000e+05         0.0   \n",
              "4                2               5   2.893166e+05  2.435298e+05     35185.0   \n",
              "\n",
              "  Write-Off-Amount  AuthYear  Last-Reported-Year  BankTenure  \n",
              "0              0.0      2012                2020           8  \n",
              "1              0.0      2012                2020           8  \n",
              "2              0.0      2017                2023           6  \n",
              "3              0.0      2013                2020           7  \n",
              "4              0.0      2011                2020           9  \n",
              "\n",
              "[5 rows x 34 columns]"
            ],
            "text/html": [
              "\n",
              "  <div id=\"df-10c56d81-5ff2-41e1-bf70-2815a5d02339\">\n",
              "    <div class=\"colab-df-container\">\n",
              "      <div>\n",
              "<style scoped>\n",
              "    .dataframe tbody tr th:only-of-type {\n",
              "        vertical-align: middle;\n",
              "    }\n",
              "\n",
              "    .dataframe tbody tr th {\n",
              "        vertical-align: top;\n",
              "    }\n",
              "\n",
              "    .dataframe thead th {\n",
              "        text-align: right;\n",
              "    }\n",
              "</style>\n",
              "<table border=\"1\" class=\"dataframe\">\n",
              "  <thead>\n",
              "    <tr style=\"text-align: right;\">\n",
              "      <th></th>\n",
              "      <th>ID</th>\n",
              "      <th>Frequency</th>\n",
              "      <th>InstlmentMode</th>\n",
              "      <th>LoanStatus</th>\n",
              "      <th>PaymentMode</th>\n",
              "      <th>BranchID</th>\n",
              "      <th>Tenure</th>\n",
              "      <th>AssetCost</th>\n",
              "      <th>AmountFinance</th>\n",
              "      <th>EMI</th>\n",
              "      <th>...</th>\n",
              "      <th>#Ownerships-Accepted</th>\n",
              "      <th>Closed-Accounts</th>\n",
              "      <th>Active-Accounts</th>\n",
              "      <th>Disbursed-Amt</th>\n",
              "      <th>Current-Bal</th>\n",
              "      <th>Overdue-Amt</th>\n",
              "      <th>Write-Off-Amount</th>\n",
              "      <th>AuthYear</th>\n",
              "      <th>Last-Reported-Year</th>\n",
              "      <th>BankTenure</th>\n",
              "    </tr>\n",
              "  </thead>\n",
              "  <tbody>\n",
              "    <tr>\n",
              "      <th>0</th>\n",
              "      <td>1</td>\n",
              "      <td>Monthly</td>\n",
              "      <td>Arrear</td>\n",
              "      <td>Closed</td>\n",
              "      <td>PDC_E</td>\n",
              "      <td>1</td>\n",
              "      <td>48</td>\n",
              "      <td>450000</td>\n",
              "      <td>275000.0</td>\n",
              "      <td>24000.0</td>\n",
              "      <td>...</td>\n",
              "      <td>1</td>\n",
              "      <td>5</td>\n",
              "      <td>4</td>\n",
              "      <td>2.751690e+05</td>\n",
              "      <td>1.546315e+05</td>\n",
              "      <td>37873.0</td>\n",
              "      <td>0.0</td>\n",
              "      <td>2012</td>\n",
              "      <td>2020</td>\n",
              "      <td>8</td>\n",
              "    </tr>\n",
              "    <tr>\n",
              "      <th>1</th>\n",
              "      <td>2</td>\n",
              "      <td>Monthly</td>\n",
              "      <td>Advance</td>\n",
              "      <td>Closed</td>\n",
              "      <td>PDC</td>\n",
              "      <td>333</td>\n",
              "      <td>47</td>\n",
              "      <td>485000</td>\n",
              "      <td>350000.0</td>\n",
              "      <td>10500.0</td>\n",
              "      <td>...</td>\n",
              "      <td>2</td>\n",
              "      <td>6</td>\n",
              "      <td>7</td>\n",
              "      <td>1.393622e+06</td>\n",
              "      <td>1.478494e+06</td>\n",
              "      <td>0.0</td>\n",
              "      <td>0.0</td>\n",
              "      <td>2012</td>\n",
              "      <td>2020</td>\n",
              "      <td>8</td>\n",
              "    </tr>\n",
              "    <tr>\n",
              "      <th>2</th>\n",
              "      <td>3</td>\n",
              "      <td>Quatrly</td>\n",
              "      <td>Arrear</td>\n",
              "      <td>Active</td>\n",
              "      <td>Direct Debit</td>\n",
              "      <td>1</td>\n",
              "      <td>68</td>\n",
              "      <td>690000</td>\n",
              "      <td>519728.0</td>\n",
              "      <td>38300.0</td>\n",
              "      <td>...</td>\n",
              "      <td>3</td>\n",
              "      <td>19</td>\n",
              "      <td>12</td>\n",
              "      <td>1.196248e+05</td>\n",
              "      <td>1.877423e+05</td>\n",
              "      <td>51745.0</td>\n",
              "      <td>0.0</td>\n",
              "      <td>2017</td>\n",
              "      <td>2023</td>\n",
              "      <td>6</td>\n",
              "    </tr>\n",
              "    <tr>\n",
              "      <th>3</th>\n",
              "      <td>7</td>\n",
              "      <td>Monthly</td>\n",
              "      <td>Advance</td>\n",
              "      <td>Closed</td>\n",
              "      <td>Billed</td>\n",
              "      <td>125</td>\n",
              "      <td>48</td>\n",
              "      <td>480000</td>\n",
              "      <td>400000.0</td>\n",
              "      <td>11600.0</td>\n",
              "      <td>...</td>\n",
              "      <td>1</td>\n",
              "      <td>2</td>\n",
              "      <td>2</td>\n",
              "      <td>3.181382e+05</td>\n",
              "      <td>6.240000e+05</td>\n",
              "      <td>0.0</td>\n",
              "      <td>0.0</td>\n",
              "      <td>2013</td>\n",
              "      <td>2020</td>\n",
              "      <td>7</td>\n",
              "    </tr>\n",
              "    <tr>\n",
              "      <th>4</th>\n",
              "      <td>8</td>\n",
              "      <td>Monthly</td>\n",
              "      <td>Arrear</td>\n",
              "      <td>Closed</td>\n",
              "      <td>Billed</td>\n",
              "      <td>152</td>\n",
              "      <td>44</td>\n",
              "      <td>619265</td>\n",
              "      <td>440000.0</td>\n",
              "      <td>15000.0</td>\n",
              "      <td>...</td>\n",
              "      <td>3</td>\n",
              "      <td>2</td>\n",
              "      <td>5</td>\n",
              "      <td>2.893166e+05</td>\n",
              "      <td>2.435298e+05</td>\n",
              "      <td>35185.0</td>\n",
              "      <td>0.0</td>\n",
              "      <td>2011</td>\n",
              "      <td>2020</td>\n",
              "      <td>9</td>\n",
              "    </tr>\n",
              "  </tbody>\n",
              "</table>\n",
              "<p>5 rows × 34 columns</p>\n",
              "</div>\n",
              "      <button class=\"colab-df-convert\" onclick=\"convertToInteractive('df-10c56d81-5ff2-41e1-bf70-2815a5d02339')\"\n",
              "              title=\"Convert this dataframe to an interactive table.\"\n",
              "              style=\"display:none;\">\n",
              "        \n",
              "  <svg xmlns=\"http://www.w3.org/2000/svg\" height=\"24px\"viewBox=\"0 0 24 24\"\n",
              "       width=\"24px\">\n",
              "    <path d=\"M0 0h24v24H0V0z\" fill=\"none\"/>\n",
              "    <path d=\"M18.56 5.44l.94 2.06.94-2.06 2.06-.94-2.06-.94-.94-2.06-.94 2.06-2.06.94zm-11 1L8.5 8.5l.94-2.06 2.06-.94-2.06-.94L8.5 2.5l-.94 2.06-2.06.94zm10 10l.94 2.06.94-2.06 2.06-.94-2.06-.94-.94-2.06-.94 2.06-2.06.94z\"/><path d=\"M17.41 7.96l-1.37-1.37c-.4-.4-.92-.59-1.43-.59-.52 0-1.04.2-1.43.59L10.3 9.45l-7.72 7.72c-.78.78-.78 2.05 0 2.83L4 21.41c.39.39.9.59 1.41.59.51 0 1.02-.2 1.41-.59l7.78-7.78 2.81-2.81c.8-.78.8-2.07 0-2.86zM5.41 20L4 18.59l7.72-7.72 1.47 1.35L5.41 20z\"/>\n",
              "  </svg>\n",
              "      </button>\n",
              "      \n",
              "  <style>\n",
              "    .colab-df-container {\n",
              "      display:flex;\n",
              "      flex-wrap:wrap;\n",
              "      gap: 12px;\n",
              "    }\n",
              "\n",
              "    .colab-df-convert {\n",
              "      background-color: #E8F0FE;\n",
              "      border: none;\n",
              "      border-radius: 50%;\n",
              "      cursor: pointer;\n",
              "      display: none;\n",
              "      fill: #1967D2;\n",
              "      height: 32px;\n",
              "      padding: 0 0 0 0;\n",
              "      width: 32px;\n",
              "    }\n",
              "\n",
              "    .colab-df-convert:hover {\n",
              "      background-color: #E2EBFA;\n",
              "      box-shadow: 0px 1px 2px rgba(60, 64, 67, 0.3), 0px 1px 3px 1px rgba(60, 64, 67, 0.15);\n",
              "      fill: #174EA6;\n",
              "    }\n",
              "\n",
              "    [theme=dark] .colab-df-convert {\n",
              "      background-color: #3B4455;\n",
              "      fill: #D2E3FC;\n",
              "    }\n",
              "\n",
              "    [theme=dark] .colab-df-convert:hover {\n",
              "      background-color: #434B5C;\n",
              "      box-shadow: 0px 1px 3px 1px rgba(0, 0, 0, 0.15);\n",
              "      filter: drop-shadow(0px 1px 2px rgba(0, 0, 0, 0.3));\n",
              "      fill: #FFFFFF;\n",
              "    }\n",
              "  </style>\n",
              "\n",
              "      <script>\n",
              "        const buttonEl =\n",
              "          document.querySelector('#df-10c56d81-5ff2-41e1-bf70-2815a5d02339 button.colab-df-convert');\n",
              "        buttonEl.style.display =\n",
              "          google.colab.kernel.accessAllowed ? 'block' : 'none';\n",
              "\n",
              "        async function convertToInteractive(key) {\n",
              "          const element = document.querySelector('#df-10c56d81-5ff2-41e1-bf70-2815a5d02339');\n",
              "          const dataTable =\n",
              "            await google.colab.kernel.invokeFunction('convertToInteractive',\n",
              "                                                     [key], {});\n",
              "          if (!dataTable) return;\n",
              "\n",
              "          const docLinkHtml = 'Like what you see? Visit the ' +\n",
              "            '<a target=\"_blank\" href=https://colab.research.google.com/notebooks/data_table.ipynb>data table notebook</a>'\n",
              "            + ' to learn more about interactive tables.';\n",
              "          element.innerHTML = '';\n",
              "          dataTable['output_type'] = 'display_data';\n",
              "          await google.colab.output.renderOutput(dataTable, element);\n",
              "          const docLink = document.createElement('div');\n",
              "          docLink.innerHTML = docLinkHtml;\n",
              "          element.appendChild(docLink);\n",
              "        }\n",
              "      </script>\n",
              "    </div>\n",
              "  </div>\n",
              "  "
            ]
          },
          "metadata": {},
          "execution_count": 3
        }
      ]
    },
    {
      "cell_type": "code",
      "source": [
        "df.columns"
      ],
      "metadata": {
        "colab": {
          "base_uri": "https://localhost:8080/"
        },
        "id": "MNETFjnmNBaH",
        "outputId": "d1e1958c-57b2-4148-96c6-fed45ebb26c5"
      },
      "execution_count": 4,
      "outputs": [
        {
          "output_type": "execute_result",
          "data": {
            "text/plain": [
              "Index(['ID', 'Frequency', 'InstlmentMode', 'LoanStatus', 'PaymentMode',\n",
              "       'BranchID', 'Tenure', 'AssetCost', 'AmountFinance', 'EMI',\n",
              "       'ManufacturerID', 'LTV', 'SEX', 'AGE', 'MonthlyIncome', 'State',\n",
              "       'Top-up Month', 'LTFS-Tradelines', 'NonLTFS-Tradelines',\n",
              "       'Primary-Applicants', 'Co-Applicants', '#TypeOfLoans',\n",
              "       'Contributor-Banks', 'Bank-lists', '#Ownerships-Accepted',\n",
              "       'Closed-Accounts', 'Active-Accounts', 'Disbursed-Amt', 'Current-Bal',\n",
              "       'Overdue-Amt', 'Write-Off-Amount', 'AuthYear', 'Last-Reported-Year',\n",
              "       'BankTenure'],\n",
              "      dtype='object')"
            ]
          },
          "metadata": {},
          "execution_count": 4
        }
      ]
    },
    {
      "cell_type": "code",
      "source": [
        "df.shape"
      ],
      "metadata": {
        "colab": {
          "base_uri": "https://localhost:8080/"
        },
        "id": "c7DBU-sCNYM6",
        "outputId": "3eb6bbc9-f8c8-4e0f-f446-4445349ceaf5"
      },
      "execution_count": 5,
      "outputs": [
        {
          "output_type": "execute_result",
          "data": {
            "text/plain": [
              "(128655, 34)"
            ]
          },
          "metadata": {},
          "execution_count": 5
        }
      ]
    },
    {
      "cell_type": "code",
      "source": [
        "df.isnull().sum()"
      ],
      "metadata": {
        "colab": {
          "base_uri": "https://localhost:8080/"
        },
        "id": "yhm8R2ebNhtH",
        "outputId": "278c7f0f-81bb-4aaf-d909-ecd5c5bbcc1e"
      },
      "execution_count": 6,
      "outputs": [
        {
          "output_type": "execute_result",
          "data": {
            "text/plain": [
              "ID                        0\n",
              "Frequency                 0\n",
              "InstlmentMode             0\n",
              "LoanStatus                0\n",
              "PaymentMode               0\n",
              "BranchID                  0\n",
              "Tenure                    0\n",
              "AssetCost                 0\n",
              "AmountFinance             0\n",
              "EMI                       0\n",
              "ManufacturerID            0\n",
              "LTV                       0\n",
              "SEX                      59\n",
              "AGE                      59\n",
              "MonthlyIncome           234\n",
              "State                     0\n",
              "Top-up Month              0\n",
              "LTFS-Tradelines           0\n",
              "NonLTFS-Tradelines        0\n",
              "Primary-Applicants        0\n",
              "Co-Applicants             0\n",
              "#TypeOfLoans              0\n",
              "Contributor-Banks         0\n",
              "Bank-lists                0\n",
              "#Ownerships-Accepted      0\n",
              "Closed-Accounts           0\n",
              "Active-Accounts           0\n",
              "Disbursed-Amt             0\n",
              "Current-Bal               0\n",
              "Overdue-Amt               0\n",
              "Write-Off-Amount          0\n",
              "AuthYear                  0\n",
              "Last-Reported-Year        0\n",
              "BankTenure                0\n",
              "dtype: int64"
            ]
          },
          "metadata": {},
          "execution_count": 6
        }
      ]
    },
    {
      "cell_type": "code",
      "source": [
        "df.dropna(inplace=True)"
      ],
      "metadata": {
        "id": "-IkCd2qTNlCP"
      },
      "execution_count": 7,
      "outputs": []
    },
    {
      "cell_type": "code",
      "source": [
        "# Dropping the ID columns because they are just numbers with no significance of their own. \n",
        "\n",
        "df.drop(['ID'], axis=1, inplace=True)"
      ],
      "metadata": {
        "id": "pV8R4sSFNoTX"
      },
      "execution_count": 8,
      "outputs": []
    },
    {
      "cell_type": "code",
      "source": [
        "print(df.corr().abs().unstack().sort_values(ascending=False).drop_duplicates().head(10))"
      ],
      "metadata": {
        "colab": {
          "base_uri": "https://localhost:8080/"
        },
        "id": "y3jjEMXELVd-",
        "outputId": "eae1b86b-926b-48a4-aa36-6aa14641e9e0"
      },
      "execution_count": 9,
      "outputs": [
        {
          "output_type": "stream",
          "name": "stderr",
          "text": [
            "<ipython-input-9-0e470b4580a3>:1: FutureWarning: The default value of numeric_only in DataFrame.corr is deprecated. In a future version, it will default to False. Select only valid columns or specify the value of numeric_only to silence this warning.\n",
            "  print(df.corr().abs().unstack().sort_values(ascending=False).drop_duplicates().head(10))\n"
          ]
        },
        {
          "output_type": "stream",
          "name": "stdout",
          "text": [
            "BranchID            BranchID             1.000000\n",
            "Primary-Applicants  LTFS-Tradelines      0.992624\n",
            "                    Closed-Accounts      0.925534\n",
            "LTFS-Tradelines     Closed-Accounts      0.920105\n",
            "#TypeOfLoans        Contributor-Banks    0.773964\n",
            "Primary-Applicants  #TypeOfLoans         0.763841\n",
            "LTFS-Tradelines     #TypeOfLoans         0.757639\n",
            "Primary-Applicants  Active-Accounts      0.747804\n",
            "LTFS-Tradelines     Active-Accounts      0.741017\n",
            "LTV                 AmountFinance        0.708584\n",
            "dtype: float64\n"
          ]
        }
      ]
    },
    {
      "cell_type": "code",
      "source": [
        "# Dropping highly correlated features\n",
        "\n",
        "df.drop(['#TypeOfLoans'], axis=1, inplace=True)"
      ],
      "metadata": {
        "id": "ddA9JuIPOLGM"
      },
      "execution_count": 10,
      "outputs": []
    },
    {
      "cell_type": "code",
      "source": [
        "# Encoding the categorical features\n",
        "\n",
        "from sklearn.preprocessing import LabelEncoder\n",
        "encoder = LabelEncoder()\n",
        "\n",
        "for col in df.columns:\n",
        "  if df[col].dtypes == 'object':\n",
        "    df[col] = encoder.fit_transform(df[col])"
      ],
      "metadata": {
        "id": "0M3rwVZVO5Ll"
      },
      "execution_count": 11,
      "outputs": []
    },
    {
      "cell_type": "code",
      "source": [
        "# Target variable and features\n",
        "\n",
        "X = df.drop(['LTV'], axis=1)\n",
        "y = df['LTV']\n",
        "\n"
      ],
      "metadata": {
        "id": "jw6RVpiYPqmI"
      },
      "execution_count": 12,
      "outputs": []
    },
    {
      "cell_type": "code",
      "source": [
        "# Scaling the features\n",
        "\n",
        "from sklearn.preprocessing import MinMaxScaler\n",
        "scaler = MinMaxScaler()\n",
        "\n",
        "X_scaled = scaler.fit_transform(X)\n"
      ],
      "metadata": {
        "id": "iMNOOz7WQn-2"
      },
      "execution_count": 13,
      "outputs": []
    },
    {
      "cell_type": "code",
      "source": [
        "from sklearn.model_selection import train_test_split\n",
        "x_train, x_test, y_train, y_test = train_test_split(X_scaled, y, test_size=0.2)"
      ],
      "metadata": {
        "id": "hTE5-7SlQ4Ax"
      },
      "execution_count": 14,
      "outputs": []
    },
    {
      "cell_type": "code",
      "source": [
        "x_train = pd.DataFrame(x_train, columns=X.columns)\n",
        "x_test = pd.DataFrame(x_test, columns=X.columns)"
      ],
      "metadata": {
        "id": "l6YT3uwOG-xO"
      },
      "execution_count": 15,
      "outputs": []
    },
    {
      "cell_type": "code",
      "source": [
        "from sklearn.metrics import mean_absolute_error as mae\n",
        "from sklearn.metrics import mean_squared_error as mse\n",
        "\n",
        "# Decision Tree Regressor\n",
        "from sklearn.tree import DecisionTreeRegressor\n",
        "dt = DecisionTreeRegressor()\n",
        "dt.fit(x_train, y_train)\n",
        "y_preds_tree = dt.predict(x_test)\n",
        "print(\"Mean Absolute Error for the Decision Tree Regressor: \", mae(y_test, y_preds_tree))\n",
        "print(\"Root Mean Squared Error for Decision Tree Regressor: \", np.sqrt(mse(y_test, y_preds_tree)))\n",
        "print()\n",
        "\n",
        "# Random Forest Regressor\n",
        "from sklearn.ensemble import RandomForestRegressor\n",
        "rf = RandomForestRegressor()\n",
        "rf.fit(x_train, y_train)\n",
        "y_preds_forest = rf.predict(x_test)\n",
        "print(\"Mean Absolute Error for the Random Forest Regressor: \", mae(y_test, y_preds_forest))\n",
        "print(\"Root Mean Squared Error for Random Forest Regressor: \", np.sqrt(mse(y_test, y_preds_forest)))\n",
        "print()\n",
        "\n",
        "\n",
        "# Support Vector Regressor\n",
        "from sklearn.svm import SVR\n",
        "sup = SVR()\n",
        "sup.fit(x_train, y_train)\n",
        "y_preds_sup = sup.predict(x_test)\n",
        "print(\"Mean Absolute Error for the SVM  Regressor: \", mae(y_test, y_preds_sup))\n",
        "print(\"Root Mean Squared Error for SVM Regressor: \", np.sqrt(mse(y_test, y_preds_sup)))\n",
        "print()\n",
        "\n",
        "\n",
        "# XGBoost Regressor\n",
        "from xgboost import XGBRegressor\n",
        "xgb = XGBRegressor()\n",
        "xgb.fit(x_train, y_train)\n",
        "y_preds_xgb = xgb.predict(x_test)\n",
        "print(\"Mean Absolute Error for XGBoost Regressor: \", mae(y_test, y_preds_xgb))\n",
        "print(\"Root Mean Squared Error for XGBoost Regressor: \", np.sqrt(mse(y_test, y_preds_xgb)))\n",
        "print()\n",
        "\n",
        "# Light GBM Regressor\n",
        "import lightgbm as ltb\n",
        "light = ltb.LGBMRegressor()\n",
        "light.fit(x_train, y_train)\n",
        "y_preds_light = light.predict(x_test)\n",
        "print(\"Mean Absolute Error for Light GBM Regressor:  \", mae(y_test, y_preds_light))\n",
        "print(\"Root Mean Squared Error for Light GBM Regressor: \", np.sqrt(mse(y_test, y_preds_light)))\n",
        "\n",
        "# Gaussian Process Regressor\n",
        "#import sklearn.gaussian_process as gp\n",
        "#kernel = gp.kernels.ConstantKernel(1.0, (1e-1, 1e3)) * gp.kernels.RBF(10.0, (1e-3, 1e3))\n",
        "#gaussian =  gp.GaussianProcessRegressor(kernel=kernel, n_restarts_optimizer=10, alpha=0.1, normalize_y=True)\n",
        "#gaussian.fit(x_train, y_train)\n",
        "#y_preds_gaussian = gaussian.predict(x_test)\n",
        "#print(\"Mean Absolute Error for Gaussian Process Regressor: \", mae(y_test, y_preds_gaussian))\n",
        "#print(\"Root Mean Squared Error for Gaussian Process Regressor: \", np.sqrt(mse(y_test, y_preds_gaussian)))\n",
        "\n",
        "\n",
        "# Elastic Net Regression\n",
        "#from sklearn.linear_model import ElasticNet\n",
        "#elastic = ElasticNet(alpha=0.1, l1_ratio=0.5)\n",
        "#elastic.fit(x_train, y_train)\n",
        "#y_preds_elastic = elastic.predict(x_test)\n",
        "#print(\"Mean Absolute Error for ElasticNet Regressor: \", mae(y_test, y_preds_elastic))\n",
        "#print(\"Root Mean Squared Error for ElasticNet Regressor: \", np.sqrt(mse(y_test, y_preds_elastic)))\n",
        "\n",
        "\n",
        "# Least Angle Regression\n",
        "#from sklearn.linear_model import LassoLars\n",
        "#lasso = LassoLars(alpha=0.1)\n",
        "##lasso.fit(x_train, y_train)\n",
        "#y_preds_lasso = lasso.predict(x_test)\n",
        "#print(\"Mean Absolute Error for Least Angle Regressor: \", mae(y_test, y_preds_lasso))\n",
        "#print(\"Root Mean Squared Error for Least Angle Regressor: \", np.sqrt(mse(y_test, y_preds_lasso)))\n",
        "\n",
        "\n",
        "\n",
        "\n"
      ],
      "metadata": {
        "colab": {
          "base_uri": "https://localhost:8080/"
        },
        "id": "C6IBmif9SR7Q",
        "outputId": "83f7312c-031c-4135-8c3d-502b252bd010"
      },
      "execution_count": 16,
      "outputs": [
        {
          "output_type": "stream",
          "name": "stdout",
          "text": [
            "Mean Absolute Error for the Decision Tree Regressor:  4.395219795195266\n",
            "Root Mean Squared Error for Decision Tree Regressor:  7.026564683306196\n",
            "\n",
            "Mean Absolute Error for the Random Forest Regressor:  4.037628435151657\n",
            "Root Mean Squared Error for Random Forest Regressor:  5.138852865336931\n",
            "\n",
            "Mean Absolute Error for the SVM  Regressor:  4.4944049473611525\n",
            "Root Mean Squared Error for SVM Regressor:  6.147964335837656\n",
            "\n",
            "Mean Absolute Error for XGBoost Regressor:  3.821927272957935\n",
            "Root Mean Squared Error for XGBoost Regressor:  4.905816056847234\n",
            "\n",
            "Mean Absolute Error for Light GBM Regressor:   3.875039745468939\n",
            "Root Mean Squared Error for Light GBM Regressor:  4.895160992362032\n"
          ]
        }
      ]
    },
    {
      "cell_type": "markdown",
      "source": [
        "Moving ahead with lightgbm regressor"
      ],
      "metadata": {
        "id": "F-KqAQEVggsL"
      }
    },
    {
      "cell_type": "code",
      "source": [
        "import matplotlib.pyplot as plt\n",
        "plt.figure(figsize=(10, 8))\n",
        "ltb.plot_importance(light)"
      ],
      "metadata": {
        "id": "o-sDOYGPGcOI",
        "colab": {
          "base_uri": "https://localhost:8080/",
          "height": 507
        },
        "outputId": "d79a39e0-c073-48b7-b909-f6d232999de5"
      },
      "execution_count": 17,
      "outputs": [
        {
          "output_type": "execute_result",
          "data": {
            "text/plain": [
              "<Axes: title={'center': 'Feature importance'}, xlabel='Feature importance', ylabel='Features'>"
            ]
          },
          "metadata": {},
          "execution_count": 17
        },
        {
          "output_type": "display_data",
          "data": {
            "text/plain": [
              "<Figure size 1000x800 with 0 Axes>"
            ]
          },
          "metadata": {}
        },
        {
          "output_type": "display_data",
          "data": {
            "text/plain": [
              "<Figure size 640x480 with 1 Axes>"
            ],
            "image/png": "[encoded data removed]"
          },
          "metadata": {}
        }
      ]
    },
    {
      "cell_type": "markdown",
      "source": [
        "Light GBM Model with the Top N most important features"
      ],
      "metadata": {
        "id": "jdFMFl-3OSYm"
      }
    },
    {
      "cell_type": "code",
      "source": [
        "new_X = X[['AssetCost', 'AmountFinance', 'AuthYear', 'EMI', 'Frequency', 'Tenure', 'State', 'MonthlyIncome', 'PaymentMode', 'Disbursed-Amt']]\n",
        "new_X_scaled = scaler.fit_transform(new_X)\n",
        "x_train_new, x_test_new, y_train_new, y_test_new = train_test_split(new_X_scaled, y, test_size=0.2)\n",
        "\n",
        "\n",
        "\n",
        "new_light = ltb.LGBMRegressor()\n",
        "new_light.fit(x_train_new, y_train_new)\n",
        "\n",
        "y_preds_light_new = new_light.predict(x_test_new)\n",
        "print(\"Mean Absolute Error for Light GBM with top 10 most important features: \", mae(y_test_new, y_preds_light_new))\n",
        "print(\"Root Mean Squared Error for Light GBM with top 10 most important features:  \", np.sqrt(mse(y_test_new, y_preds_light_new)))\n",
        "\n"
      ],
      "metadata": {
        "id": "bLZvxgXcHnsc",
        "colab": {
          "base_uri": "https://localhost:8080/"
        },
        "outputId": "8fc7da2a-8e3c-40d1-c63c-945dd7415ea1"
      },
      "execution_count": 18,
      "outputs": [
        {
          "output_type": "stream",
          "name": "stdout",
          "text": [
            "Mean Absolute Error for Light GBM with top 10 most important features:  3.8841301100466583\n",
            "Root Mean Squared Error for Light GBM with top 10 most important features:   4.88111910945443\n"
          ]
        }
      ]
    },
    {
      "cell_type": "markdown",
      "source": [
        "Hyperparameter Tuning of LightGBM Regressor"
      ],
      "metadata": {
        "id": "YFB2wvZWYO_e"
      }
    },
    {
      "cell_type": "code",
      "source": [
        "from sklearn.model_selection import KFold\n",
        "from sklearn.model_selection import GridSearchCV"
      ],
      "metadata": {
        "id": "b2pwdQdV_2yT"
      },
      "execution_count": 20,
      "outputs": []
    },
    {
      "cell_type": "code",
      "source": [
        "\n",
        "grid = dict()\n",
        "grid['n_estimators'] = [10, 50, 100, 200, 300, 400, 500]\n",
        "grid['learning_rate'] = [0.0001, 0.001, 0.01, 0.1, 1.0]\n",
        "grid['subsample'] = [0.5, 0.7, 1.0]\n",
        "grid['max_depth'] = [3, 4, 5, 10, 15, 20]\n",
        "\n",
        "cv = KFold(n_splits=3, shuffle=True)\n",
        "grid_search = GridSearchCV(estimator=light, param_grid=grid, n_jobs=-1, cv=cv, scoring='neg_mean_absolute_error')\n",
        "\n",
        "\n",
        "grid_result = grid_search.fit(x_train, y_train)\n",
        "\n",
        "\n",
        "print(\"Accuracy score: %f using %s\" % (grid_result.best_score_, grid_result.best_params_))\n",
        "\n",
        "\n"
      ],
      "metadata": {
        "id": "I4-FhtVWaFG1",
        "colab": {
          "base_uri": "https://localhost:8080/",
          "height": 380
        },
        "outputId": "1a22fae7-cddf-4acc-d3d8-2f242c92f13d"
      },
      "execution_count": 21,
      "outputs": [
        {
          "output_type": "error",
          "ename": "KeyboardInterrupt",
          "evalue": "ignored",
          "traceback": [
            "\u001b[0;31m---------------------------------------------------------------------------\u001b[0m",
            "\u001b[0;31mKeyboardInterrupt\u001b[0m                         Traceback (most recent call last)",
            "\u001b[0;32m<ipython-input-21-c2d762dba205>\u001b[0m in \u001b[0;36m<cell line: 11>\u001b[0;34m()\u001b[0m\n\u001b[1;32m      9\u001b[0m \u001b[0;34m\u001b[0m\u001b[0m\n\u001b[1;32m     10\u001b[0m \u001b[0;34m\u001b[0m\u001b[0m\n\u001b[0;32m---> 11\u001b[0;31m \u001b[0mgrid_result\u001b[0m \u001b[0;34m=\u001b[0m \u001b[0mgrid_search\u001b[0m\u001b[0;34m.\u001b[0m\u001b[0mfit\u001b[0m\u001b[0;34m(\u001b[0m\u001b[0mx_train\u001b[0m\u001b[0;34m,\u001b[0m \u001b[0my_train\u001b[0m\u001b[0;34m)\u001b[0m\u001b[0;34m\u001b[0m\u001b[0;34m\u001b[0m\u001b[0m\n\u001b[0m\u001b[1;32m     12\u001b[0m \u001b[0;34m\u001b[0m\u001b[0m\n\u001b[1;32m     13\u001b[0m \u001b[0;34m\u001b[0m\u001b[0m\n",
            "\u001b[0;32m/usr/local/lib/python3.10/dist-packages/sklearn/model_selection/_search.py\u001b[0m in \u001b[0;36mfit\u001b[0;34m(self, X, y, groups, **fit_params)\u001b[0m\n\u001b[1;32m    872\u001b[0m                 \u001b[0;32mreturn\u001b[0m \u001b[0mresults\u001b[0m\u001b[0;34m\u001b[0m\u001b[0;34m\u001b[0m\u001b[0m\n\u001b[1;32m    873\u001b[0m \u001b[0;34m\u001b[0m\u001b[0m\n\u001b[0;32m--> 874\u001b[0;31m             \u001b[0mself\u001b[0m\u001b[0;34m.\u001b[0m\u001b[0m_run_search\u001b[0m\u001b[0;34m(\u001b[0m\u001b[0mevaluate_candidates\u001b[0m\u001b[0;34m)\u001b[0m\u001b[0;34m\u001b[0m\u001b[0;34m\u001b[0m\u001b[0m\n\u001b[0m\u001b[1;32m    875\u001b[0m \u001b[0;34m\u001b[0m\u001b[0m\n\u001b[1;32m    876\u001b[0m             \u001b[0;31m# multimetric is determined here because in the case of a callable\u001b[0m\u001b[0;34m\u001b[0m\u001b[0;34m\u001b[0m\u001b[0m\n",
            "\u001b[0;32m/usr/local/lib/python3.10/dist-packages/sklearn/model_selection/_search.py\u001b[0m in \u001b[0;36m_run_search\u001b[0;34m(self, evaluate_candidates)\u001b[0m\n\u001b[1;32m   1386\u001b[0m     \u001b[0;32mdef\u001b[0m \u001b[0m_run_search\u001b[0m\u001b[0;34m(\u001b[0m\u001b[0mself\u001b[0m\u001b[0;34m,\u001b[0m \u001b[0mevaluate_candidates\u001b[0m\u001b[0;34m)\u001b[0m\u001b[0;34m:\u001b[0m\u001b[0;34m\u001b[0m\u001b[0;34m\u001b[0m\u001b[0m\n\u001b[1;32m   1387\u001b[0m         \u001b[0;34m\"\"\"Search all candidates in param_grid\"\"\"\u001b[0m\u001b[0;34m\u001b[0m\u001b[0;34m\u001b[0m\u001b[0m\n\u001b[0;32m-> 1388\u001b[0;31m         \u001b[0mevaluate_candidates\u001b[0m\u001b[0;34m(\u001b[0m\u001b[0mParameterGrid\u001b[0m\u001b[0;34m(\u001b[0m\u001b[0mself\u001b[0m\u001b[0;34m.\u001b[0m\u001b[0mparam_grid\u001b[0m\u001b[0;34m)\u001b[0m\u001b[0;34m)\u001b[0m\u001b[0;34m\u001b[0m\u001b[0;34m\u001b[0m\u001b[0m\n\u001b[0m\u001b[1;32m   1389\u001b[0m \u001b[0;34m\u001b[0m\u001b[0m\n\u001b[1;32m   1390\u001b[0m \u001b[0;34m\u001b[0m\u001b[0m\n",
            "\u001b[0;32m/usr/local/lib/python3.10/dist-packages/sklearn/model_selection/_search.py\u001b[0m in \u001b[0;36mevaluate_candidates\u001b[0;34m(candidate_params, cv, more_results)\u001b[0m\n\u001b[1;32m    819\u001b[0m                     )\n\u001b[1;32m    820\u001b[0m \u001b[0;34m\u001b[0m\u001b[0m\n\u001b[0;32m--> 821\u001b[0;31m                 out = parallel(\n\u001b[0m\u001b[1;32m    822\u001b[0m                     delayed(_fit_and_score)(\n\u001b[1;32m    823\u001b[0m                         \u001b[0mclone\u001b[0m\u001b[0;34m(\u001b[0m\u001b[0mbase_estimator\u001b[0m\u001b[0;34m)\u001b[0m\u001b[0;34m,\u001b[0m\u001b[0;34m\u001b[0m\u001b[0;34m\u001b[0m\u001b[0m\n",
            "\u001b[0;32m/usr/local/lib/python3.10/dist-packages/sklearn/utils/parallel.py\u001b[0m in \u001b[0;36m__call__\u001b[0;34m(self, iterable)\u001b[0m\n\u001b[1;32m     61\u001b[0m             \u001b[0;32mfor\u001b[0m \u001b[0mdelayed_func\u001b[0m\u001b[0;34m,\u001b[0m \u001b[0margs\u001b[0m\u001b[0;34m,\u001b[0m \u001b[0mkwargs\u001b[0m \u001b[0;32min\u001b[0m \u001b[0miterable\u001b[0m\u001b[0;34m\u001b[0m\u001b[0;34m\u001b[0m\u001b[0m\n\u001b[1;32m     62\u001b[0m         )\n\u001b[0;32m---> 63\u001b[0;31m         \u001b[0;32mreturn\u001b[0m \u001b[0msuper\u001b[0m\u001b[0;34m(\u001b[0m\u001b[0;34m)\u001b[0m\u001b[0;34m.\u001b[0m\u001b[0m__call__\u001b[0m\u001b[0;34m(\u001b[0m\u001b[0miterable_with_config\u001b[0m\u001b[0;34m)\u001b[0m\u001b[0;34m\u001b[0m\u001b[0;34m\u001b[0m\u001b[0m\n\u001b[0m\u001b[1;32m     64\u001b[0m \u001b[0;34m\u001b[0m\u001b[0m\n\u001b[1;32m     65\u001b[0m \u001b[0;34m\u001b[0m\u001b[0m\n",
            "\u001b[0;32m/usr/local/lib/python3.10/dist-packages/joblib/parallel.py\u001b[0m in \u001b[0;36m__call__\u001b[0;34m(self, iterable)\u001b[0m\n\u001b[1;32m   1096\u001b[0m \u001b[0;34m\u001b[0m\u001b[0m\n\u001b[1;32m   1097\u001b[0m             \u001b[0;32mwith\u001b[0m \u001b[0mself\u001b[0m\u001b[0;34m.\u001b[0m\u001b[0m_backend\u001b[0m\u001b[0;34m.\u001b[0m\u001b[0mretrieval_context\u001b[0m\u001b[0;34m(\u001b[0m\u001b[0;34m)\u001b[0m\u001b[0;34m:\u001b[0m\u001b[0;34m\u001b[0m\u001b[0;34m\u001b[0m\u001b[0m\n\u001b[0;32m-> 1098\u001b[0;31m                 \u001b[0mself\u001b[0m\u001b[0;34m.\u001b[0m\u001b[0mretrieve\u001b[0m\u001b[0;34m(\u001b[0m\u001b[0;34m)\u001b[0m\u001b[0;34m\u001b[0m\u001b[0;34m\u001b[0m\u001b[0m\n\u001b[0m\u001b[1;32m   1099\u001b[0m             \u001b[0;31m# Make sure that we get a last message telling us we are done\u001b[0m\u001b[0;34m\u001b[0m\u001b[0;34m\u001b[0m\u001b[0m\n\u001b[1;32m   1100\u001b[0m             \u001b[0melapsed_time\u001b[0m \u001b[0;34m=\u001b[0m \u001b[0mtime\u001b[0m\u001b[0;34m.\u001b[0m\u001b[0mtime\u001b[0m\u001b[0;34m(\u001b[0m\u001b[0;34m)\u001b[0m \u001b[0;34m-\u001b[0m \u001b[0mself\u001b[0m\u001b[0;34m.\u001b[0m\u001b[0m_start_time\u001b[0m\u001b[0;34m\u001b[0m\u001b[0;34m\u001b[0m\u001b[0m\n",
            "\u001b[0;32m/usr/local/lib/python3.10/dist-packages/joblib/parallel.py\u001b[0m in \u001b[0;36mretrieve\u001b[0;34m(self)\u001b[0m\n\u001b[1;32m    973\u001b[0m             \u001b[0;32mtry\u001b[0m\u001b[0;34m:\u001b[0m\u001b[0;34m\u001b[0m\u001b[0;34m\u001b[0m\u001b[0m\n\u001b[1;32m    974\u001b[0m                 \u001b[0;32mif\u001b[0m \u001b[0mgetattr\u001b[0m\u001b[0;34m(\u001b[0m\u001b[0mself\u001b[0m\u001b[0;34m.\u001b[0m\u001b[0m_backend\u001b[0m\u001b[0;34m,\u001b[0m \u001b[0;34m'supports_timeout'\u001b[0m\u001b[0;34m,\u001b[0m \u001b[0;32mFalse\u001b[0m\u001b[0;34m)\u001b[0m\u001b[0;34m:\u001b[0m\u001b[0;34m\u001b[0m\u001b[0;34m\u001b[0m\u001b[0m\n\u001b[0;32m--> 975\u001b[0;31m                     \u001b[0mself\u001b[0m\u001b[0;34m.\u001b[0m\u001b[0m_output\u001b[0m\u001b[0;34m.\u001b[0m\u001b[0mextend\u001b[0m\u001b[0;34m(\u001b[0m\u001b[0mjob\u001b[0m\u001b[0;34m.\u001b[0m\u001b[0mget\u001b[0m\u001b[0;34m(\u001b[0m\u001b[0mtimeout\u001b[0m\u001b[0;34m=\u001b[0m\u001b[0mself\u001b[0m\u001b[0;34m.\u001b[0m\u001b[0mtimeout\u001b[0m\u001b[0;34m)\u001b[0m\u001b[0;34m)\u001b[0m\u001b[0;34m\u001b[0m\u001b[0;34m\u001b[0m\u001b[0m\n\u001b[0m\u001b[1;32m    976\u001b[0m                 \u001b[0;32melse\u001b[0m\u001b[0;34m:\u001b[0m\u001b[0;34m\u001b[0m\u001b[0;34m\u001b[0m\u001b[0m\n\u001b[1;32m    977\u001b[0m                     \u001b[0mself\u001b[0m\u001b[0;34m.\u001b[0m\u001b[0m_output\u001b[0m\u001b[0;34m.\u001b[0m\u001b[0mextend\u001b[0m\u001b[0;34m(\u001b[0m\u001b[0mjob\u001b[0m\u001b[0;34m.\u001b[0m\u001b[0mget\u001b[0m\u001b[0;34m(\u001b[0m\u001b[0;34m)\u001b[0m\u001b[0;34m)\u001b[0m\u001b[0;34m\u001b[0m\u001b[0;34m\u001b[0m\u001b[0m\n",
            "\u001b[0;32m/usr/local/lib/python3.10/dist-packages/joblib/_parallel_backends.py\u001b[0m in \u001b[0;36mwrap_future_result\u001b[0;34m(future, timeout)\u001b[0m\n\u001b[1;32m    565\u001b[0m         AsyncResults.get from multiprocessing.\"\"\"\n\u001b[1;32m    566\u001b[0m         \u001b[0;32mtry\u001b[0m\u001b[0;34m:\u001b[0m\u001b[0;34m\u001b[0m\u001b[0;34m\u001b[0m\u001b[0m\n\u001b[0;32m--> 567\u001b[0;31m             \u001b[0;32mreturn\u001b[0m \u001b[0mfuture\u001b[0m\u001b[0;34m.\u001b[0m\u001b[0mresult\u001b[0m\u001b[0;34m(\u001b[0m\u001b[0mtimeout\u001b[0m\u001b[0;34m=\u001b[0m\u001b[0mtimeout\u001b[0m\u001b[0;34m)\u001b[0m\u001b[0;34m\u001b[0m\u001b[0;34m\u001b[0m\u001b[0m\n\u001b[0m\u001b[1;32m    568\u001b[0m         \u001b[0;32mexcept\u001b[0m \u001b[0mCfTimeoutError\u001b[0m \u001b[0;32mas\u001b[0m \u001b[0me\u001b[0m\u001b[0;34m:\u001b[0m\u001b[0;34m\u001b[0m\u001b[0;34m\u001b[0m\u001b[0m\n\u001b[1;32m    569\u001b[0m             \u001b[0;32mraise\u001b[0m \u001b[0mTimeoutError\u001b[0m \u001b[0;32mfrom\u001b[0m \u001b[0me\u001b[0m\u001b[0;34m\u001b[0m\u001b[0;34m\u001b[0m\u001b[0m\n",
            "\u001b[0;32m/usr/lib/python3.10/concurrent/futures/_base.py\u001b[0m in \u001b[0;36mresult\u001b[0;34m(self, timeout)\u001b[0m\n\u001b[1;32m    451\u001b[0m                     \u001b[0;32mreturn\u001b[0m \u001b[0mself\u001b[0m\u001b[0;34m.\u001b[0m\u001b[0m__get_result\u001b[0m\u001b[0;34m(\u001b[0m\u001b[0;34m)\u001b[0m\u001b[0;34m\u001b[0m\u001b[0;34m\u001b[0m\u001b[0m\n\u001b[1;32m    452\u001b[0m \u001b[0;34m\u001b[0m\u001b[0m\n\u001b[0;32m--> 453\u001b[0;31m                 \u001b[0mself\u001b[0m\u001b[0;34m.\u001b[0m\u001b[0m_condition\u001b[0m\u001b[0;34m.\u001b[0m\u001b[0mwait\u001b[0m\u001b[0;34m(\u001b[0m\u001b[0mtimeout\u001b[0m\u001b[0;34m)\u001b[0m\u001b[0;34m\u001b[0m\u001b[0;34m\u001b[0m\u001b[0m\n\u001b[0m\u001b[1;32m    454\u001b[0m \u001b[0;34m\u001b[0m\u001b[0m\n\u001b[1;32m    455\u001b[0m                 \u001b[0;32mif\u001b[0m \u001b[0mself\u001b[0m\u001b[0;34m.\u001b[0m\u001b[0m_state\u001b[0m \u001b[0;32min\u001b[0m \u001b[0;34m[\u001b[0m\u001b[0mCANCELLED\u001b[0m\u001b[0;34m,\u001b[0m \u001b[0mCANCELLED_AND_NOTIFIED\u001b[0m\u001b[0;34m]\u001b[0m\u001b[0;34m:\u001b[0m\u001b[0;34m\u001b[0m\u001b[0;34m\u001b[0m\u001b[0m\n",
            "\u001b[0;32m/usr/lib/python3.10/threading.py\u001b[0m in \u001b[0;36mwait\u001b[0;34m(self, timeout)\u001b[0m\n\u001b[1;32m    318\u001b[0m         \u001b[0;32mtry\u001b[0m\u001b[0;34m:\u001b[0m    \u001b[0;31m# restore state no matter what (e.g., KeyboardInterrupt)\u001b[0m\u001b[0;34m\u001b[0m\u001b[0;34m\u001b[0m\u001b[0m\n\u001b[1;32m    319\u001b[0m             \u001b[0;32mif\u001b[0m \u001b[0mtimeout\u001b[0m \u001b[0;32mis\u001b[0m \u001b[0;32mNone\u001b[0m\u001b[0;34m:\u001b[0m\u001b[0;34m\u001b[0m\u001b[0;34m\u001b[0m\u001b[0m\n\u001b[0;32m--> 320\u001b[0;31m                 \u001b[0mwaiter\u001b[0m\u001b[0;34m.\u001b[0m\u001b[0macquire\u001b[0m\u001b[0;34m(\u001b[0m\u001b[0;34m)\u001b[0m\u001b[0;34m\u001b[0m\u001b[0;34m\u001b[0m\u001b[0m\n\u001b[0m\u001b[1;32m    321\u001b[0m                 \u001b[0mgotit\u001b[0m \u001b[0;34m=\u001b[0m \u001b[0;32mTrue\u001b[0m\u001b[0;34m\u001b[0m\u001b[0;34m\u001b[0m\u001b[0m\n\u001b[1;32m    322\u001b[0m             \u001b[0;32melse\u001b[0m\u001b[0;34m:\u001b[0m\u001b[0;34m\u001b[0m\u001b[0;34m\u001b[0m\u001b[0m\n",
            "\u001b[0;31mKeyboardInterrupt\u001b[0m: "
          ]
        }
      ]
    },
    {
      "cell_type": "code",
      "source": [
        "best_light = ltb.LGBMRegressor(learning_rate=0.1, max_depth=20, n_estimators=500, subsample=0.5, application='regression' )\n",
        "best_light.fit(x_train, y_train)\n",
        "y_preds_light_best = best_light.predict(x_test)\n",
        "print(\"Mean Absolute Error for Light GBM after Hyperparameter Tuning: \", mae(y_test, y_preds_light_best))\n",
        "print(\"Root Mean Squared Error for Light GBM after Hyperparameter Tuning: \", np.sqrt(mse(y_test, y_preds_light_best)))"
      ],
      "metadata": {
        "colab": {
          "base_uri": "https://localhost:8080/"
        },
        "id": "rVz5zbmP9XLE",
        "outputId": "4e021e46-52f2-4554-b24b-b7df115302ae"
      },
      "execution_count": 22,
      "outputs": [
        {
          "output_type": "stream",
          "name": "stdout",
          "text": [
            "Mean Absolute Error for Light GBM after Hyperparameter Tuning:  3.7628834648666127\n",
            "Root Mean Squared Error for Light GBM after Hyperparameter Tuning:  4.850700139617256\n"
          ]
        }
      ]
    },
    {
      "cell_type": "code",
      "source": [
        "import pickle\n",
        "pickle.dump(best_light, open('my_light.pkl', 'wb'))"
      ],
      "metadata": {
        "id": "BDxcl2Hs7YHV"
      },
      "execution_count": null,
      "outputs": []
    },
    {
      "cell_type": "code",
      "source": [],
      "metadata": {
        "id": "qP-67JHhSo6w"
      },
      "execution_count": null,
      "outputs": []
    }
  ]
}